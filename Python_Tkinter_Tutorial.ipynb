{
 "cells": [
  {
   "cell_type": "markdown",
   "metadata": {},
   "source": [
    "# >> Importing Library <<"
   ]
  },
  {
   "cell_type": "code",
   "execution_count": 1,
   "metadata": {},
   "outputs": [],
   "source": [
    "from tkinter import *"
   ]
  },
  {
   "cell_type": "markdown",
   "metadata": {},
   "source": [
    "# >> Tkinter Screen Initialization <<"
   ]
  },
  {
   "cell_type": "code",
   "execution_count": 2,
   "metadata": {},
   "outputs": [],
   "source": [
    "#Get Screen Output\n",
    "root = Tk()\n",
    "root.mainloop()"
   ]
  },
  {
   "cell_type": "code",
   "execution_count": 4,
   "metadata": {},
   "outputs": [],
   "source": [
    "#Changing title,size and color of screen\n",
    "root = Tk()\n",
    "root.title(\"My First GUI\")\n",
    "root.geometry(\"800x600\")\n",
    "root.configure(bg='pink')\n",
    "root.mainloop()"
   ]
  },
  {
   "cell_type": "markdown",
   "metadata": {},
   "source": [
    "# >> Tkinter Button widget <<"
   ]
  },
  {
   "cell_type": "code",
   "execution_count": 5,
   "metadata": {},
   "outputs": [
    {
     "name": "stdout",
     "output_type": "stream",
     "text": [
      "Hello \n",
      "Hello \n"
     ]
    }
   ],
   "source": [
    "#Customizing Button\n",
    "root = Tk()\n",
    "root.title(\"My First GUI\")\n",
    "root.geometry(\"500x300\")\n",
    "root.configure(bg='pink')\n",
    "def hello():\n",
    "    print(\"Hello \")\n",
    "btn1 = Button(root,text='click',bg='yellow',fg='blue',font=('arial',15,'bold'),activebackground='green',\n",
    "              width=10,height=2,anchor=CENTER,cursor='heart',activeforeground='red',bd=8,relief=RIDGE,command=hello)\n",
    "btn1.pack()\n",
    "\n",
    "root.mainloop()"
   ]
  },
  {
   "cell_type": "markdown",
   "metadata": {},
   "source": [
    "# >> Tkinter Label widget <<"
   ]
  },
  {
   "cell_type": "code",
   "execution_count": 6,
   "metadata": {},
   "outputs": [],
   "source": [
    "root = Tk()\n",
    "root.title(\"My First GUI\")\n",
    "root.geometry(\"500x300\")\n",
    "root.configure(bg='pink')\n",
    "lab1 = Label(root,text='Hello World',width=20,height=2,anchor=N,bg='blue',fg='white',\n",
    "             font=('chiller',35,'italic bold underline'),cursor='star',relief=RIDGE,bd=5)\n",
    "lab1.pack()\n",
    "root.mainloop()"
   ]
  },
  {
   "cell_type": "markdown",
   "metadata": {},
   "source": [
    "# >> Add Images on Tkinter <<"
   ]
  },
  {
   "cell_type": "code",
   "execution_count": 7,
   "metadata": {},
   "outputs": [
    {
     "name": "stdout",
     "output_type": "stream",
     "text": [
      "Hello\n",
      "Hello\n"
     ]
    }
   ],
   "source": [
    "root = Tk()\n",
    "root.title(\"My First GUI\")\n",
    "root.geometry(\"800x600\")\n",
    "root.configure(bg='pink')\n",
    "def hello():\n",
    "    print(\"Hello\")\n",
    "im = PhotoImage(file='chocolate.png')\n",
    "im = im.subsample(10,10)\n",
    "btn1 = Button(root,text='click',bg='yellow',fg='blue',font=('arial',15,'bold'),activebackground='green',\n",
    "              width=200,height=100,anchor=CENTER,cursor='star',activeforeground='red',bd=8,relief=RIDGE,command=hello,\n",
    "              image=im,compound=RIGHT)\n",
    "btn1.pack()\n",
    "lab1 = Label(root,text='Hello World',width=200,height=100,anchor=N,bg='blue',fg='white',\n",
    "             font=('chiller',35,'italic bold underline'),cursor='star',relief=RIDGE,bd=5,image=im,compound=TOP)\n",
    "lab1.pack()\n",
    "root.mainloop()"
   ]
  },
  {
   "cell_type": "markdown",
   "metadata": {},
   "source": [
    "# >> Tkinter EntryBox widget <<"
   ]
  },
  {
   "cell_type": "code",
   "execution_count": 8,
   "metadata": {},
   "outputs": [
    {
     "name": "stdout",
     "output_type": "stream",
     "text": [
      "rishurishu\n"
     ]
    }
   ],
   "source": [
    "root = Tk()\n",
    "root.title(\"My First GUI\")\n",
    "root.geometry(\"500x300\")\n",
    "root.configure(bg='red')\n",
    "def ff():\n",
    "    et1.insert(0,'rishu')\n",
    "    print(ss.get())\n",
    "   #ss.set('')\n",
    "ss = StringVar()\n",
    "et1 = Entry(root,bg='yellow',bd=3,fg='green',font=('arial',15,'bold'),insertbackground='blue',insertwidth=5,\n",
    "            justify='center',relief=RIDGE,selectbackground='black',selectforeground='white',textvariable=ss)\n",
    "et1.pack()\n",
    "et1.focus_set()\n",
    "bt1 = Button(root,text='click',command=ff)\n",
    "bt1.pack()\n",
    "root.mainloop()"
   ]
  },
  {
   "cell_type": "markdown",
   "metadata": {},
   "source": [
    "# >> Tkinter Grid Method <<"
   ]
  },
  {
   "cell_type": "code",
   "execution_count": 3,
   "metadata": {},
   "outputs": [],
   "source": [
    "root = Tk()\n",
    "root.title(\"My First GUI\")\n",
    "root.geometry(\"800x400\")\n",
    "root.configure(bg='red')\n",
    "\n",
    "#bt1 = Button(root,text='click',width=10,height=2,bg='yellow')\n",
    "#bt1.grid(row=0,column=0)\n",
    "\n",
    "#bt1 = Button(root,text='click',width=20,height=2,bg='yellow')\n",
    "#bt1.grid(row=1,column=2,columnspan=2)\n",
    "\n",
    "#bt1 = Button(root,text='click',width=10,height=6,bg='yellow')\n",
    "#bt1.grid(row=1,column=0,rowspan=2)\n",
    "\n",
    "#bt1 = Button(root,text='click',width=10,height=2,bg='yellow')\n",
    "#bt1.grid(row=0,column=0,ipadx=56,ipady=50,padx=50,pady=50)\n",
    "\n",
    "bt1 = Button(root,text='click',width=10,height=5,bg='yellow')\n",
    "bt1.grid(row=0,column=0)\n",
    "\n",
    "bt1 = Button(root,text='click',width=55,height=2,bg='yellow')\n",
    "bt1.grid(row=0,column=1,sticky=N)\n",
    "\n",
    "bt1 = Button(root,text='click',width=50,height=2,bg='yellow')\n",
    "bt1.grid(row=1,column=1)\n",
    "\n",
    "root.mainloop()"
   ]
  },
  {
   "cell_type": "code",
   "execution_count": 4,
   "metadata": {},
   "outputs": [],
   "source": [
    "root = Tk()\n",
    "\n",
    "root.title('My First GUI')\n",
    "root.configure(bg = 'skyblue')\n",
    "\n",
    "butn1 = Button(root , text = 'Click', bg = 'red' , fg = 'white', font = ('arial',20,'bold'), \n",
    "             activebackground = 'green', activeforeground = 'black',bd = 10, relief = RIDGE,width = 8,height = 1,\n",
    "             cursor = 'watch', anchor = CENTER)\n",
    "butn1.grid(row = 0, column = 0)\n",
    "\n",
    "butn2 = Button(root , text = 'Click', bg = 'red' , fg = 'white', font = ('arial',20,'bold'), \n",
    "             activebackground = 'green', activeforeground = 'black',bd = 10, relief = RIDGE,width = 8,height = 1,\n",
    "             cursor = 'watch', anchor = CENTER)\n",
    "butn2.grid(row = 0, column = 1)\n",
    "\n",
    "butn3 = Button(root , text = 'Click', bg = 'red' , fg = 'white', font = ('arial',20,'bold'), \n",
    "             activebackground = 'green', activeforeground = 'black',bd = 10, relief = RIDGE,width = 8,height = 1,\n",
    "             cursor = 'watch', anchor = CENTER)\n",
    "butn3.grid(row = 0, column = 2)\n",
    "\n",
    "butn4 = Button(root , text = 'Click', bg = 'red' , fg = 'white', font = ('arial',20,'bold'), \n",
    "             activebackground = 'green', activeforeground = 'black',bd = 10, relief = RIDGE,width = 8,height = 1,\n",
    "             cursor = 'watch', anchor = CENTER)\n",
    "butn4.grid(row = 0, column = 3)\n",
    "\n",
    "butn5 = Button(root , text = 'Click', bg = 'red' , fg = 'white', font = ('arial',20,'bold'), \n",
    "             activebackground = 'green', activeforeground = 'black',bd = 10, relief = RIDGE,width = 18,height = '1',\n",
    "             cursor = 'watch', anchor = CENTER)\n",
    "butn5.grid(row = 1, column = 2,columnspan = 2, ipady = 5)\n",
    "\n",
    "butn6 = Button(root , text = 'Click', bg = 'red' , fg = 'white', font = ('arial',20,'bold'), \n",
    "             activebackground = 'green', activeforeground = 'black',bd = 10, relief = RIDGE,width = 18,height = '1',\n",
    "             cursor = 'watch', anchor = CENTER)\n",
    "butn6.grid(row = 2, column = 2,columnspan = 2, ipady = 5)\n",
    "\n",
    "butn7 = Button(root , text = 'Click', bg = 'red' , fg = 'white', font = ('arial',20,'bold'), \n",
    "             activebackground = 'green', activeforeground = 'black',bd = 10, relief = RIDGE,width = 8,height = 4,\n",
    "             cursor = 'watch', anchor = CENTER)\n",
    "butn7.grid(row = 1, column = 0,rowspan = 2)\n",
    "\n",
    "butn8 = Button(root , text = 'Click', bg = 'red' , fg = 'white', font = ('arial',20,'bold'), \n",
    "             activebackground = 'green', activeforeground = 'black',bd = 10, relief = RIDGE,width = 8,height = 4,\n",
    "             cursor = 'watch', anchor = CENTER)\n",
    "butn8.grid(row = 1, column = 1,rowspan = 2)\n",
    "\n",
    "root.mainloop()"
   ]
  },
  {
   "cell_type": "code",
   "execution_count": null,
   "metadata": {},
   "outputs": [],
   "source": []
  }
 ],
 "metadata": {
  "kernelspec": {
   "display_name": "Python 3",
   "language": "python",
   "name": "python3"
  },
  "language_info": {
   "codemirror_mode": {
    "name": "ipython",
    "version": 3
   },
   "file_extension": ".py",
   "mimetype": "text/x-python",
   "name": "python",
   "nbconvert_exporter": "python",
   "pygments_lexer": "ipython3",
   "version": "3.8.3"
  }
 },
 "nbformat": 4,
 "nbformat_minor": 4
}
